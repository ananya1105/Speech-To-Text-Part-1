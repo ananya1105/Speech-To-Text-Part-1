{
 "cells": [
  {
   "cell_type": "code",
   "execution_count": 1,
   "metadata": {},
   "outputs": [
    {
     "name": "stdout",
     "output_type": "stream",
     "text": [
      "Collecting speechrecognition\n",
      "\u001b[?25l  Downloading https://files.pythonhosted.org/packages/26/e1/7f5678cd94ec1234269d23756dbdaa4c8cfaed973412f88ae8adf7893a50/SpeechRecognition-3.8.1-py2.py3-none-any.whl (32.8MB)\n",
      "\u001b[K     |████████████████████████████████| 32.8MB 863kB/s eta 0:00:01\n",
      "\u001b[?25hInstalling collected packages: speechrecognition\n",
      "Successfully installed speechrecognition-3.8.1\n",
      "Note: you may need to restart the kernel to use updated packages.\n"
     ]
    }
   ],
   "source": [
    "pip install speechrecognition"
   ]
  },
  {
   "cell_type": "code",
   "execution_count": 6,
   "metadata": {},
   "outputs": [
    {
     "name": "stdout",
     "output_type": "stream",
     "text": [
      "Requirement already satisfied: pyttsx3 in /home/ananya/anaconda3/lib/python3.7/site-packages (2.71)\n",
      "Note: you may need to restart the kernel to use updated packages.\n"
     ]
    }
   ],
   "source": [
    "pip install pyttsx3"
   ]
  },
  {
   "cell_type": "code",
   "execution_count": 42,
   "metadata": {},
   "outputs": [
    {
     "name": "stdout",
     "output_type": "stream",
     "text": [
      "Collecting pyaudio\n",
      "  Using cached https://files.pythonhosted.org/packages/ab/42/b4f04721c5c5bfc196ce156b3c768998ef8c0ae3654ed29ea5020c749a6b/PyAudio-0.2.11.tar.gz\n",
      "Building wheels for collected packages: pyaudio\n",
      "  Building wheel for pyaudio (setup.py) ... \u001b[?25ldone\n",
      "\u001b[?25h  Created wheel for pyaudio: filename=PyAudio-0.2.11-cp37-cp37m-linux_x86_64.whl size=52882 sha256=1fee5434d20e3dd8e8be09b2c12599bd354560a362ab280f68e34a14bb41173c\n",
      "  Stored in directory: /home/ananya/.cache/pip/wheels/f4/a8/a4/292214166c2917890f85b2f72a8e5f13e1ffa527c4200dcede\n",
      "Successfully built pyaudio\n",
      "Installing collected packages: pyaudio\n",
      "Successfully installed pyaudio-0.2.11\n",
      "Note: you may need to restart the kernel to use updated packages.\n"
     ]
    }
   ],
   "source": [
    "pip install pyaudio"
   ]
  },
  {
   "cell_type": "code",
   "execution_count": 98,
   "metadata": {},
   "outputs": [],
   "source": [
    "import speech_recognition as sr"
   ]
  },
  {
   "cell_type": "code",
   "execution_count": 99,
   "metadata": {},
   "outputs": [],
   "source": [
    "r1 = sr.Recognizer()"
   ]
  },
  {
   "cell_type": "code",
   "execution_count": 100,
   "metadata": {},
   "outputs": [
    {
     "name": "stdout",
     "output_type": "stream",
     "text": [
      "\u001b[0m\u001b[00;36myou-are-acting-so-weird.wav\u001b[0m\r\n"
     ]
    }
   ],
   "source": [
    "ls 'audio files/'"
   ]
  },
  {
   "cell_type": "code",
   "execution_count": 101,
   "metadata": {},
   "outputs": [
    {
     "name": "stdout",
     "output_type": "stream",
     "text": [
      "Converting audio into texts : \n",
      "you are acting so weird\n"
     ]
    }
   ],
   "source": [
    "#Speech to text conversion for audio file\n",
    "lst = ['you-are-acting-so-weird.wav']\n",
    "for i in lst:\n",
    "    with sr.AudioFile('audio files/' + i) as source:\n",
    "        audio_text = r1.listen(source)\n",
    "        try:\n",
    "            text = r1.recognize_google(audio_text, language='en-US')\n",
    "            print('Converting audio into texts : ')\n",
    "            print(text)\n",
    "\n",
    "        except:\n",
    "            print('Oops! There is error')\n"
   ]
  },
  {
   "cell_type": "code",
   "execution_count": 111,
   "metadata": {},
   "outputs": [
    {
     "name": "stdout",
     "output_type": "stream",
     "text": [
      "Speak Something : \n",
      "Time Up! Converting Audio to text : \n",
      "how have you been doing how have you been doing\n"
     ]
    }
   ],
   "source": [
    "#Speech to text converter using microphone\n",
    "r2 = sr.Recognizer()\n",
    "with sr.Microphone() as source:\n",
    "   \n",
    "    try:\n",
    "        r2.adjust_for_ambient_noise(source) # This filters noise\n",
    "        r2.pause_threshold = 1\n",
    "        print('Speak Something : ')\n",
    "        aud = r2.listen(source)\n",
    "        print('Time Up! Converting Audio to text : ')\n",
    "        text = r2.recognize_google(aud)\n",
    "        \n",
    "        print(text)\n",
    "    except:\n",
    "        print(\"Sorry, I did not get that\")"
   ]
  },
  {
   "cell_type": "code",
   "execution_count": 119,
   "metadata": {},
   "outputs": [
    {
     "name": "stdout",
     "output_type": "stream",
     "text": [
      "Speak something in Hindi : \n",
      "Time Up! Converting audio to text\n",
      "Speak something in Hindi : \n",
      "Time Up! Converting audio to text\n",
      "Speak something in Hindi : \n",
      "Time Up! Converting audio to text\n",
      "Speak something in Hindi : \n",
      "Time Up! Converting audio to text\n",
      "Speak something in Hindi : \n",
      "Time Up! Converting audio to text\n",
      "कैसे हो आप\n",
      "मैं ठीक हूं\n",
      "और अभी क्या कर रहे थे\n",
      "नहीं कुछ खास नहीं\n",
      "अच्छा मैं भी बस बैठी थी\n"
     ]
    }
   ],
   "source": [
    "#Speech to text for hindi language\n",
    "r3 = sr.Recognizer()\n",
    "lst = []\n",
    "for i in range(5):\n",
    "    with sr.Microphone() as source:\n",
    "        try:\n",
    "            r3.adjust_for_ambient_noise(source)\n",
    "            r3.pause_threshold = 1\n",
    "            print('Speak something in Hindi : ')\n",
    "            aud_hindi = r3.listen(source)\n",
    "            print('Time Up! Converting audio to text')\n",
    "            text = r3.recognize_google(aud_hindi, language = 'hi-IN')\n",
    "            lst.append(text)\n",
    "        except:\n",
    "            print('There is error!')\n",
    "for i in lst:\n",
    "    print(i)"
   ]
  }
 ],
 "metadata": {
  "kernelspec": {
   "display_name": "Python 3",
   "language": "python",
   "name": "python3"
  },
  "language_info": {
   "codemirror_mode": {
    "name": "ipython",
    "version": 3
   },
   "file_extension": ".py",
   "mimetype": "text/x-python",
   "name": "python",
   "nbconvert_exporter": "python",
   "pygments_lexer": "ipython3",
   "version": "3.7.4"
  }
 },
 "nbformat": 4,
 "nbformat_minor": 2
}
